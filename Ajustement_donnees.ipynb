{
 "cells": [
  {
   "cell_type": "code",
   "execution_count": null,
   "id": "c179adbe-5705-4bb0-a1d4-842aa9a63924",
   "metadata": {},
   "outputs": [],
   "source": [
    "import pandas as pd\n",
    "import matplotlib.pyplot as plt\n",
    "import numpy as np\n",
    "from astropy.time import Time\n",
    "from scipy import optimize"
   ]
  },
  {
   "cell_type": "code",
   "execution_count": null,
   "id": "0c5ebc1b-c520-4dcb-b0c3-78868713424c",
   "metadata": {},
   "outputs": [],
   "source": [
    "df_bl23 = pd.read_csv('./Données/baseline_23_c_light_curve_data.csv')\n",
    "df_bl24 = pd.read_csv('./Données/baseline_24_c_light_curve_data.csv')\n",
    "df_obs_pri_r = pd.read_csv('./Données/obs_pri_r_c_light_curve_data.csv')\n",
    "df_obs_sec_g = pd.read_csv('./Données/obs_sec_g_c_light_curve_data.csv')\n",
    "df_obs_sec_r = pd.read_csv('./Données/obs_sec_r_c_light_curve_data.csv')\n",
    "\n",
    "column_names = df_bl23.columns.tolist()\n",
    "print(column_names)\n",
    "print(df_bl23['filter'][0])\n",
    "print(df_bl24['filter'][0])"
   ]
  },
  {
   "cell_type": "code",
   "execution_count": null,
   "id": "91319395-4425-4bd0-98f9-447bf4f9d99c",
   "metadata": {},
   "outputs": [],
   "source": [
    "def mjd_conversion(mjd_arr):\n",
    "    return Time(mjd_arr, format='jd').iso\n"
   ]
  },
  {
   "cell_type": "code",
   "execution_count": null,
   "id": "36eb5edd-c94b-4f48-af5f-d635f15d4ca2",
   "metadata": {},
   "outputs": [],
   "source": [
    "def plot_wrapper(data_array, title, x_lbl, y_lbl, legend_loc='upper right', output_filename=''):\n",
    "    for line in data_array:\n",
    "        plt.scatter(line[0], line[1], label=line[2], color=line[3], marker=line[4])\n",
    "    plt.title(title)\n",
    "    plt.xlabel(x_lbl)\n",
    "    plt.ylabel(y_lbl)\n",
    "    plt.legend(loc=legend_loc)\n",
    "    if output_filename != '':\n",
    "        plt.savefig(output_filename)\n",
    "    plt.show()\n",
    "\n",
    "x_bl_23 = df_bl23['observation_date'].to_numpy()\n",
    "y_bl_23 = 1/df_bl23['normalized_intensity'].to_numpy()\n",
    "\n",
    "x_bl_24 = df_bl24['observation_date'].to_numpy()\n",
    "y_bl_24 = 1/df_bl24['normalized_intensity'].to_numpy()\n",
    "\n",
    "plot_wrapper([[x_bl_23, y_bl_23, '23 sept', 'blue', '.']],\n",
    "             'Normalized intensity', 'Time', 'Intensity')\n",
    "\n",
    "plot_wrapper([[x_bl_24, y_bl_24, '24 sept', 'blue', '.']],\n",
    "             'Normalized intensity', 'Time', 'Intensity')\n",
    "\n",
    "mean_bl_23=np.mean(y_bl_23)\n",
    "std_bl_23=np.std(y_bl_23)\n",
    "\n",
    "mean_bl_24=np.mean(y_bl_24)\n",
    "std_bl_24=np.std(y_bl_24)"
   ]
  },
  {
   "cell_type": "code",
   "execution_count": null,
   "id": "833f6a4c-6c2e-4fd2-9076-734baed24526",
   "metadata": {},
   "outputs": [],
   "source": [
    "x_sec_r = 1/df_obs_sec_r['observation_date'].to_numpy()\n",
    "y_sec_r = 1/df_obs_sec_r['normalized_intensity'].to_numpy()\n",
    "\n",
    "plot_wrapper([[x_sec_r, y_sec_r, '23 sept', 'orange', '.']],\n",
    "             'Secondary eclipse, red filter', 'Time', 'Intensity')"
   ]
  },
  {
   "cell_type": "code",
   "execution_count": null,
   "id": "a45f5ed6-30ca-497a-ba9e-135b6a590f2a",
   "metadata": {},
   "outputs": [],
   "source": [
    "x_sec_g = df_obs_sec_g['observation_date'].to_numpy()\n",
    "y_sec_g = 1/(df_obs_sec_g['normalized_intensity'].to_numpy())\n",
    "\n",
    "plot_wrapper([[x_sec_g, y_sec_g, '24 sept', 'orange', '.']],\n",
    "             'Secondary eclipse, green filter', 'Time', 'Intensity')"
   ]
  },
  {
   "cell_type": "code",
   "execution_count": null,
   "id": "cfd850f3-8651-4f27-aa70-ff2aeb4ede7d",
   "metadata": {},
   "outputs": [],
   "source": [
    "x_pri_r = df_obs_pri_r['observation_date'].to_numpy()\n",
    "y_pri_r = 1/(df_obs_pri_r['normalized_intensity'].to_numpy())\n",
    "\n",
    "plot_wrapper([[x_pri_r, y_pri_r, '25 sept', 'orange', '.']],\n",
    "             'Primary eclipse, red filter', 'Time', 'Intensity')"
   ]
  },
  {
   "cell_type": "code",
   "execution_count": null,
   "id": "37bbee40-1464-4360-88ed-bf2c75a92790",
   "metadata": {},
   "outputs": [],
   "source": [
    "def fft_wrapper(x_arr, y_arr):\n",
    "    fs = 1/(x_arr[1]-x_arr[0])\n",
    "    foufou = np.fft.fft(y_arr-np.mean(y_arr))\n",
    "    freqs = np.fft.fftfreq(len(x_arr),d=fs)\n",
    "    spectrum = np.abs(foufou)\n",
    "    return freqs, spectrum"
   ]
  },
  {
   "cell_type": "code",
   "execution_count": null,
   "id": "3c213b5c-293e-470f-ae4a-2adbad537061",
   "metadata": {},
   "outputs": [],
   "source": [
    "x_sec_tot_r = np.hstack((x_bl_23-0.279, x_sec_r, x_bl_23-0.121))\n",
    "y_sec_tot_r = np.hstack((y_bl_23, y_sec_r, y_bl_23))\n",
    "\n",
    "# Ne fonctionne pas tel quel, je travaillerai dessus si jamais on décide d'utiliser les baselines pour analyser le signal\n",
    "#plot_wrapper([[x_sec_tot_r, y_sec_tot_r, '23 sept', 'blue', '.']],\n",
    "#             'Secondary eclipse, red filter', 'Time', 'Intensity')\n"
   ]
  },
  {
   "cell_type": "code",
   "execution_count": null,
   "id": "7bdc74ca-7975-451a-b66d-0440f4ed589e",
   "metadata": {},
   "outputs": [],
   "source": [
    "freqs_sec_r, spectrum_sec_r = fft_wrapper(x_sec_r, y_sec_r)\n",
    "freqs_pri_r, spectrum_pri_r = fft_wrapper(x_pri_r, y_pri_r)\n",
    "freqs_sec_g, spectrum_sec_g = fft_wrapper(x_sec_g, y_sec_g)\n",
    "\n",
    "plot_wrapper([[freqs_sec_r, spectrum_sec_r, 'Spectrum', 'blue', '.']],\n",
    "             'Spectrum of the secondary eclipse with the red filter', 'Frequency', 'Intensity', output_filename='sec_r_fft.png')\n",
    "plot_wrapper([[freqs_pri_r, spectrum_pri_r, 'Spectrum', 'blue', '.']],\n",
    "             'Spectrum of the primary eclipse with the red filter', 'Frequency', 'Intensity', output_filename='pri_r_fft.png')\n",
    "plot_wrapper([[freqs_sec_g, spectrum_sec_g, 'Spectrum', 'blue', '.']],\n",
    "             'Spectrum of the secondary eclipse with the green filter', 'Frequency', 'Intensity', output_filename='sec_g_fft.png')"
   ]
  },
  {
   "cell_type": "code",
   "execution_count": null,
   "id": "e1de6634-61a5-4ac7-83a7-b53daeba1a62",
   "metadata": {},
   "outputs": [],
   "source": [
    "cutoff_sec_r = 10\n",
    "filtered_sec_r = spectrum_sec_r[:]\n",
    "filtered_sec_r[cutoff_sec_r+1:-cutoff_sec_r] = 0\n",
    "\n",
    "cutoff_pri_r = 10\n",
    "filtered_pri_r = spectrum_pri_r[:]\n",
    "filtered_pri_r[cutoff_pri_r+1:-cutoff_pri_r] = 0\n",
    "\n",
    "cutoff_sec_g = 10\n",
    "filtered_sec_g = spectrum_sec_g[:]\n",
    "filtered_sec_g[cutoff_sec_g+1:-cutoff_sec_g] = 0\n",
    "\n",
    "plot_wrapper([[freqs_sec_r, filtered_sec_r, 'Spectrum', 'blue', '.']],\n",
    "             'Spectrum of the secondary (r) eclipse with the lowpass filter', 'Frequency', 'Intensity', output_filename='sec_r_fft_filtered.png')\n",
    "\n",
    "plot_wrapper([[freqs_pri_r, filtered_pri_r, 'Spectrum', 'blue', '.']],\n",
    "             'Spectrum of the primary (r) eclipse with the lowpass filter', 'Frequency', 'Intensity', output_filename='pri_r_fft_filtered.png')\n",
    "\n",
    "plot_wrapper([[freqs_sec_g, filtered_sec_g, 'Spectrum', 'blue', '.']],\n",
    "             'Spectrum of the secondary (g) eclipse with the lowpass filter', 'Frequency', 'Intensity', output_filename='sec_g_fft_filtered.png')"
   ]
  },
  {
   "cell_type": "code",
   "execution_count": null,
   "id": "00670598-57e9-4b21-9a21-7257f5460776",
   "metadata": {},
   "outputs": [],
   "source": [
    "plot_wrapper([[x_sec_r+0.36e-14, np.fft.ifft(spectrum_sec_r)+np.mean(y_sec_r), 'Filtered signal', 'blue', '.'],\n",
    "             [x_sec_r, y_sec_r, 'Original signal', 'orange', '.']],\n",
    "             'Comparison of the filtered signal and the original for the secondary (r) eclipse.', 'Time', 'Intensity', output_filename='sec_r_comparison.png')\n",
    "\n",
    "plot_wrapper([[x_pri_r-0.017, np.fft.ifft(spectrum_pri_r)+np.mean(y_pri_r), 'Filtered signal', 'blue', '.'],\n",
    "             [x_pri_r, y_pri_r, 'Original signal', 'orange', '.']],\n",
    "             'Comparison of the filtered signal and the original for the primary (r) eclipse.', 'Time', 'Intensity', output_filename='pri_r_comparison.png')\n",
    "\n",
    "plot_wrapper([[x_sec_g-0.017, np.fft.ifft(spectrum_sec_g)+np.mean(y_sec_g), 'Filtered signal', 'blue', '.'],\n",
    "             [x_sec_g, y_sec_g, 'Original signal', 'orange', '.']],\n",
    "             'Comparison of the filtered signal and the original for the secondary (g) eclipse.', 'Time', 'Intensity', output_filename='sec_g_comparison.png')"
   ]
  },
  {
   "cell_type": "code",
   "execution_count": null,
   "id": "d25fd6df-f012-4051-80ad-731ac699e61b",
   "metadata": {},
   "outputs": [],
   "source": [
    "# Credits: https://gist.github.com/ruoyu0088\n",
    "def segments_fit(X, Y, count):\n",
    "    xmin = X.min()\n",
    "    xmax = X.max()\n",
    "\n",
    "    seg = np.full(count - 1, (xmax - xmin) / count)\n",
    "\n",
    "    px_init = np.r_[np.r_[xmin, seg].cumsum(), xmax]\n",
    "    py_init = np.array([Y[np.abs(X - x) < (xmax - xmin) * 0.01].mean() for x in px_init])\n",
    "\n",
    "    def func(p):\n",
    "        seg = p[:count - 1]\n",
    "        py = p[count - 1:]\n",
    "        px = np.r_[np.r_[xmin, seg].cumsum(), xmax]\n",
    "        return px, py\n",
    "\n",
    "    def err(p):\n",
    "        px, py = func(p)\n",
    "        Y2 = np.interp(X, px, py)\n",
    "        return np.mean((Y - Y2)**2)\n",
    "\n",
    "    r = optimize.minimize(err, x0=np.r_[seg, py_init], method='Nelder-Mead')\n",
    "    return func(r.x)"
   ]
  },
  {
   "cell_type": "code",
   "execution_count": null,
   "id": "8f778f8f-f080-4ed3-9c8e-3cf262a28f57",
   "metadata": {},
   "outputs": [],
   "source": [
    "fx, fy = segments_fit(x_sec_r, y_sec_r, 5)\n",
    "\n",
    "plt.plot(x_sec_r, y_sec_r, \".\", label='data', color='orange')\n",
    "plt.plot(x_sec_r+0.36e-14, np.fft.ifft(spectrum_sec_r)+np.mean(y_sec_r), '.', label='filtered by fft', color='blue')\n",
    "plt.plot(fx, fy, label='piecewise linear regression', color='red', linewidth='5')\n",
    "\n",
    "plot_wrapper([],\n",
    "             'Piecewise linear regression of the data for the secondary eclipse (r).', 'Time', 'Intensity', output_filename='sec_r_fit.png')"
   ]
  },
  {
   "cell_type": "code",
   "execution_count": null,
   "id": "5536ad29-41c7-4223-9ffd-950dab920571",
   "metadata": {},
   "outputs": [],
   "source": [
    "fx_pri_r, fy_pri_r = segments_fit(x_pri_r, y_pri_r, 5)\n",
    "\n",
    "plt.plot(x_pri_r, y_pri_r, \".\", label='data', color='orange')\n",
    "plt.plot(x_pri_r-0.017, np.fft.ifft(spectrum_pri_r)+np.mean(y_pri_r), '.', label='filtered by fft', color='blue')\n",
    "plt.plot(fx_pri_r, fy_pri_r, label='piecewise linear regression', color='red', linewidth='5')\n",
    "\n",
    "plot_wrapper([],\n",
    "             'Piecewise linear regression of the data for the primary eclipse (r).', 'Time', 'Intensity', output_filename='pri_r_fit.png')"
   ]
  },
  {
   "cell_type": "code",
   "execution_count": null,
   "id": "77211935-a016-4728-80d8-efa0b1ca0f53",
   "metadata": {},
   "outputs": [],
   "source": [
    "fx_sec_g, fy_sec_g = segments_fit(x_sec_g, y_sec_g, 4)\n",
    "\n",
    "plt.plot(x_sec_g, y_sec_g, \".\", label='data', color='orange')\n",
    "plt.plot(fx_sec_g, fy_sec_g, label='piecewise linear regression', color='red', linewidth='5')\n",
    "\n",
    "plot_wrapper([],\n",
    "             'Piecewise linear regression of the data for the secondary eclipse (g).', 'Time', 'Intensity', legend_loc='lower right', output_filename='sec_g_fit.png')"
   ]
  },
  {
   "cell_type": "code",
   "execution_count": null,
   "id": "4b55f875-9cae-4f9e-be1f-8851a718f566",
   "metadata": {},
   "outputs": [],
   "source": []
  }
 ],
 "metadata": {
  "kernelspec": {
   "display_name": "Python 3 (ipykernel)",
   "language": "python",
   "name": "python3"
  },
  "language_info": {
   "codemirror_mode": {
    "name": "ipython",
    "version": 3
   },
   "file_extension": ".py",
   "mimetype": "text/x-python",
   "name": "python",
   "nbconvert_exporter": "python",
   "pygments_lexer": "ipython3",
   "version": "3.9.20"
  }
 },
 "nbformat": 4,
 "nbformat_minor": 5
}
